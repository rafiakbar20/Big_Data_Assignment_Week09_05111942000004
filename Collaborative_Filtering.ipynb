{
  "nbformat": 4,
  "nbformat_minor": 0,
  "metadata": {
    "colab": {
      "provenance": []
    },
    "kernelspec": {
      "name": "python3",
      "display_name": "Python 3"
    },
    "language_info": {
      "name": "python"
    }
  },
  "cells": [
    {
      "cell_type": "markdown",
      "source": [
        "# Big Data Assignment Week 09 - Collaborative Filtering\n",
        "\n",
        "\n",
        "\n",
        "*   Rafi Akbar Rafsanjani\n",
        "*   05111942000004\n",
        "\n"
      ],
      "metadata": {
        "id": "z0qhR83FQNGE"
      }
    },
    {
      "cell_type": "code",
      "execution_count": 3,
      "metadata": {
        "colab": {
          "base_uri": "https://localhost:8080/"
        },
        "id": "F6ldTWL8TGWw",
        "outputId": "62c1c3e0-1a5e-4297-b581-52681a7fcc0e"
      },
      "outputs": [
        {
          "output_type": "stream",
          "name": "stdout",
          "text": [
            "Looking in indexes: https://pypi.org/simple, https://us-python.pkg.dev/colab-wheels/public/simple/\n",
            "Collecting pyspark\n",
            "  Downloading pyspark-3.3.2.tar.gz (281.4 MB)\n",
            "\u001b[2K     \u001b[90m━━━━━━━━━━━━━━━━━━━━━━━━━━━━━━━━━━━━━━━\u001b[0m \u001b[32m281.4/281.4 MB\u001b[0m \u001b[31m4.7 MB/s\u001b[0m eta \u001b[36m0:00:00\u001b[0m\n",
            "\u001b[?25h  Preparing metadata (setup.py) ... \u001b[?25l\u001b[?25hdone\n",
            "Collecting py4j==0.10.9.5\n",
            "  Downloading py4j-0.10.9.5-py2.py3-none-any.whl (199 kB)\n",
            "\u001b[2K     \u001b[90m━━━━━━━━━━━━━━━━━━━━━━━━━━━━━━━━━━━━━━\u001b[0m \u001b[32m199.7/199.7 kB\u001b[0m \u001b[31m17.8 MB/s\u001b[0m eta \u001b[36m0:00:00\u001b[0m\n",
            "\u001b[?25hBuilding wheels for collected packages: pyspark\n",
            "  Building wheel for pyspark (setup.py) ... \u001b[?25l\u001b[?25hdone\n",
            "  Created wheel for pyspark: filename=pyspark-3.3.2-py2.py3-none-any.whl size=281824028 sha256=41e6a1bb72b9b8977c81fbd9513b56bd393e4a170cb4a8cdfd845a6630271bbe\n",
            "  Stored in directory: /root/.cache/pip/wheels/6c/e3/9b/0525ce8a69478916513509d43693511463c6468db0de237c86\n",
            "Successfully built pyspark\n",
            "Installing collected packages: py4j, pyspark\n",
            "  Attempting uninstall: py4j\n",
            "    Found existing installation: py4j 0.10.9.7\n",
            "    Uninstalling py4j-0.10.9.7:\n",
            "      Successfully uninstalled py4j-0.10.9.7\n",
            "Successfully installed py4j-0.10.9.5 pyspark-3.3.2\n"
          ]
        }
      ],
      "source": [
        "!pip install pyspark"
      ]
    },
    {
      "cell_type": "code",
      "source": [
        "from pyspark.ml.evaluation import RegressionEvaluator\n",
        "from pyspark.ml.recommendation import ALS\n",
        "from pyspark.sql import Row, SparkSession"
      ],
      "metadata": {
        "id": "GTOGL00LTWya"
      },
      "execution_count": 4,
      "outputs": []
    },
    {
      "cell_type": "code",
      "source": [
        "# SparkSession Initialization\n",
        "from pyspark.context import SparkContext\n",
        "from pyspark.sql.session import SparkSession\n",
        "sc = SparkContext('local')\n",
        "spark = SparkSession(sc)"
      ],
      "metadata": {
        "id": "6B6Qy2O4TYc2"
      },
      "execution_count": 5,
      "outputs": []
    },
    {
      "cell_type": "code",
      "source": [
        "# Read data from a text file and separate elements of each line\n",
        "lines = spark.read.text(\"/content/sample_movielens_ratings.txt\").rdd\n",
        "parts = lines.map(lambda row: row.value.split(\"::\"))\n",
        "ratingsRDD = parts.map(lambda p: Row(userId=int(p[0]), movieId=int(p[1]),\n",
        "                                     rating=float(p[2]), timestamp=int(p[3])))\n",
        "\n",
        "# Split the data into training (80%) and testing (20%) sets\n",
        "ratings = spark.createDataFrame(ratingsRDD)\n",
        "(training, test) = ratings.randomSplit([0.8, 0.2])"
      ],
      "metadata": {
        "id": "Dz7p8VqsTddM"
      },
      "execution_count": 7,
      "outputs": []
    },
    {
      "cell_type": "markdown",
      "source": [
        "maxIter=5 and  regParam=0.01"
      ],
      "metadata": {
        "id": "wcu0SCnyCGsm"
      }
    },
    {
      "cell_type": "code",
      "source": [
        "# Build the recommendation model using ALS on the training data\n",
        "# Note we set cold start strategy to 'drop' to ensure we don't get NaN evaluation metrics\n",
        "als = ALS(maxIter=5, regParam=0.01, userCol=\"userId\", itemCol=\"movieId\", ratingCol=\"rating\",\n",
        "          coldStartStrategy=\"drop\")\n",
        "model = als.fit(training)"
      ],
      "metadata": {
        "id": "MhnLsVujBdrf"
      },
      "execution_count": 8,
      "outputs": []
    },
    {
      "cell_type": "code",
      "source": [
        "# Evaluate the model by computing the RMSE on the test data\n",
        "predictions = model.transform(test)\n",
        "evaluator = RegressionEvaluator(metricName=\"rmse\", labelCol=\"rating\",\n",
        "                                predictionCol=\"prediction\")\n",
        "rmse = evaluator.evaluate(predictions)\n",
        "print(\"Root-mean-square error = \" + str(rmse))"
      ],
      "metadata": {
        "colab": {
          "base_uri": "https://localhost:8080/"
        },
        "id": "Ygxgv9-_Bmqf",
        "outputId": "376709b0-3bde-4c53-99a0-5e365353ba97"
      },
      "execution_count": 9,
      "outputs": [
        {
          "output_type": "stream",
          "name": "stdout",
          "text": [
            "Root-mean-square error = 1.9062249048748514\n"
          ]
        }
      ]
    },
    {
      "cell_type": "markdown",
      "source": [
        "maxIter=5 and  regParam=0.1"
      ],
      "metadata": {
        "id": "CZYceLvZQ2lX"
      }
    },
    {
      "cell_type": "code",
      "source": [
        "# Build the recommendation model using ALS on the training data\n",
        "# Note we set cold start strategy to 'drop' to ensure we don't get NaN evaluation metrics\n",
        "als2 = ALS(maxIter=5, regParam=0.1, userCol=\"userId\", itemCol=\"movieId\", ratingCol=\"rating\",\n",
        "          coldStartStrategy=\"drop\")\n",
        "model2 = als2.fit(training)"
      ],
      "metadata": {
        "id": "22XKEpIKDEiC"
      },
      "execution_count": 10,
      "outputs": []
    },
    {
      "cell_type": "code",
      "source": [
        "# Evaluate the model by computing the RMSE on the test data\n",
        "predictions2 = model2.transform(test)\n",
        "evaluator2 = RegressionEvaluator(metricName=\"rmse\", labelCol=\"rating\",\n",
        "                                predictionCol=\"prediction\")\n",
        "rmse = evaluator2.evaluate(predictions2)\n",
        "print(\"Root-mean-square error of maxIter 5 and regParam 0.1 = \" + str(rmse))"
      ],
      "metadata": {
        "colab": {
          "base_uri": "https://localhost:8080/"
        },
        "id": "2gDcatDKDKZ5",
        "outputId": "f0ef0af7-669b-426b-f669-55c0d319d438"
      },
      "execution_count": 11,
      "outputs": [
        {
          "output_type": "stream",
          "name": "stdout",
          "text": [
            "Root-mean-square error of maxIter 5 and regParam 0.1 = 0.9994598940387365\n"
          ]
        }
      ]
    },
    {
      "cell_type": "markdown",
      "source": [
        "maxIter=5 and  regParam=0.5"
      ],
      "metadata": {
        "id": "9_39ZqppQ6gs"
      }
    },
    {
      "cell_type": "code",
      "source": [
        "# Build the recommendation model using ALS on the training data\n",
        "# Note we set cold start strategy to 'drop' to ensure we don't get NaN evaluation metrics\n",
        "als3 = ALS(maxIter=5, regParam=0.5, userCol=\"userId\", itemCol=\"movieId\", ratingCol=\"rating\",\n",
        "          coldStartStrategy=\"drop\")\n",
        "model3 = als3.fit(training)"
      ],
      "metadata": {
        "id": "79jt_-R_DN47"
      },
      "execution_count": 12,
      "outputs": []
    },
    {
      "cell_type": "code",
      "source": [
        "predictions3 = model3.transform(test)\n",
        "evaluator3 = RegressionEvaluator(metricName=\"rmse\", labelCol=\"rating\",\n",
        "                                predictionCol=\"prediction\")\n",
        "rmse = evaluator3.evaluate(predictions3)\n",
        "print(\"Root-mean-square error of maxIter 5 and regParam 0.5 = \" + str(rmse))"
      ],
      "metadata": {
        "colab": {
          "base_uri": "https://localhost:8080/"
        },
        "id": "KBK3LQhFDRZk",
        "outputId": "49212f2f-b10d-4f5f-cb0a-f22d322ede6a"
      },
      "execution_count": 14,
      "outputs": [
        {
          "output_type": "stream",
          "name": "stdout",
          "text": [
            "Root-mean-square error of maxIter 5 and regParam 0.5 = 1.2366706102011766\n"
          ]
        }
      ]
    },
    {
      "cell_type": "markdown",
      "source": [
        "maxIter=5 and  regParam=1"
      ],
      "metadata": {
        "id": "pw0kiOmNQ8i7"
      }
    },
    {
      "cell_type": "code",
      "source": [
        "# Build the recommendation model using ALS on the training data\n",
        "# Note we set cold start strategy to 'drop' to ensure we don't get NaN evaluation metrics\n",
        "als4 = ALS(maxIter=5, regParam=1, userCol=\"userId\", itemCol=\"movieId\", ratingCol=\"rating\",\n",
        "          coldStartStrategy=\"drop\")\n",
        "model4 = als4.fit(training)"
      ],
      "metadata": {
        "id": "mFJidwmfDXRc"
      },
      "execution_count": 15,
      "outputs": []
    },
    {
      "cell_type": "code",
      "source": [
        "predictions4 = model4.transform(test)\n",
        "evaluator4 = RegressionEvaluator(metricName=\"rmse\", labelCol=\"rating\",\n",
        "                                predictionCol=\"prediction\")\n",
        "rmse = evaluator4.evaluate(predictions4)\n",
        "print(\"Root-mean-square error of maxIter 5 and regParam 1.0 = \" + str(rmse))"
      ],
      "metadata": {
        "colab": {
          "base_uri": "https://localhost:8080/"
        },
        "id": "eVISxEUzDgg9",
        "outputId": "85e3c84f-ffbd-444b-e02c-7a2b5a0a5137"
      },
      "execution_count": 16,
      "outputs": [
        {
          "output_type": "stream",
          "name": "stdout",
          "text": [
            "Root-mean-square error of maxIter 5 and regParam 1.0 = 1.5261758286650555\n"
          ]
        }
      ]
    },
    {
      "cell_type": "markdown",
      "source": [
        "maxIter=10 and  regParam=0.01"
      ],
      "metadata": {
        "id": "0v6SoUXSRU8N"
      }
    },
    {
      "cell_type": "code",
      "source": [
        "# Build the recommendation model using ALS on the training data\n",
        "# Note we set cold start strategy to 'drop' to ensure we don't get NaN evaluation metrics\n",
        "als5 = ALS(maxIter=10, regParam=0.01, userCol=\"userId\", itemCol=\"movieId\", ratingCol=\"rating\",\n",
        "          coldStartStrategy=\"drop\")\n",
        "model5 = als5.fit(training)"
      ],
      "metadata": {
        "id": "v98dNxnzDl1n"
      },
      "execution_count": 19,
      "outputs": []
    },
    {
      "cell_type": "code",
      "source": [
        "predictions5 = model5.transform(test)\n",
        "evaluator5 = RegressionEvaluator(metricName=\"rmse\", labelCol=\"rating\",\n",
        "                                predictionCol=\"prediction\")\n",
        "rmse = evaluator5.evaluate(predictions5)\n",
        "print(\"Root-mean-square error of maxIter 10 and regParam 0.01 = \" + str(rmse))"
      ],
      "metadata": {
        "colab": {
          "base_uri": "https://localhost:8080/"
        },
        "id": "UgZs8sIRDpxu",
        "outputId": "2382b8b1-948c-4a59-8115-c0a05b53863b"
      },
      "execution_count": 20,
      "outputs": [
        {
          "output_type": "stream",
          "name": "stdout",
          "text": [
            "Root-mean-square error of maxIter 10 and regParam 0.01 = 1.8885252123811558\n"
          ]
        }
      ]
    },
    {
      "cell_type": "markdown",
      "source": [
        "maxIter=10 and  regParam=0.1"
      ],
      "metadata": {
        "id": "9SnrHx_YRYFU"
      }
    },
    {
      "cell_type": "code",
      "source": [
        "# Build the recommendation model using ALS on the training data\n",
        "# Note we set cold start strategy to 'drop' to ensure we don't get NaN evaluation metrics\n",
        "als6 = ALS(maxIter=10, regParam=0.1, userCol=\"userId\", itemCol=\"movieId\", ratingCol=\"rating\",\n",
        "          coldStartStrategy=\"drop\")\n",
        "model6 = als6.fit(training)"
      ],
      "metadata": {
        "id": "U3Pu0uqPDsZu"
      },
      "execution_count": 21,
      "outputs": []
    },
    {
      "cell_type": "code",
      "source": [
        "predictions6 = model6.transform(test)\n",
        "evaluator6 = RegressionEvaluator(metricName=\"rmse\", labelCol=\"rating\",\n",
        "                                predictionCol=\"prediction\")\n",
        "rmse = evaluator6.evaluate(predictions6)\n",
        "print(\"Root-mean-square error of maxIter 10 and regParam 0.1 = \" + str(rmse))"
      ],
      "metadata": {
        "colab": {
          "base_uri": "https://localhost:8080/"
        },
        "id": "6lnnb_bkDycO",
        "outputId": "b9887567-8c3c-4e5a-ed15-79709cca8b18"
      },
      "execution_count": 22,
      "outputs": [
        {
          "output_type": "stream",
          "name": "stdout",
          "text": [
            "Root-mean-square error of maxIter 10 and regParam 0.1 = 0.9247370856155932\n"
          ]
        }
      ]
    },
    {
      "cell_type": "markdown",
      "source": [
        "maxIter=10 and  regParam=0.5"
      ],
      "metadata": {
        "id": "KKM01czsRZq8"
      }
    },
    {
      "cell_type": "code",
      "source": [
        "# Build the recommendation model using ALS on the training data\n",
        "# Note we set cold start strategy to 'drop' to ensure we don't get NaN evaluation metrics\n",
        "als7 = ALS(maxIter=10, regParam=0.5, userCol=\"userId\", itemCol=\"movieId\", ratingCol=\"rating\",\n",
        "          coldStartStrategy=\"drop\")\n",
        "model7 = als7.fit(training)"
      ],
      "metadata": {
        "id": "DMYdrkokD1WK"
      },
      "execution_count": 23,
      "outputs": []
    },
    {
      "cell_type": "code",
      "source": [
        "predictions7 = model7.transform(test)\n",
        "evaluator7 = RegressionEvaluator(metricName=\"rmse\", labelCol=\"rating\",\n",
        "                                predictionCol=\"prediction\")\n",
        "rmse = evaluator7.evaluate(predictions7)\n",
        "print(\"Root-mean-square error of maxIter 10 and regParam 0.5 = \" + str(rmse))"
      ],
      "metadata": {
        "colab": {
          "base_uri": "https://localhost:8080/"
        },
        "id": "5wNlJLtKD-1K",
        "outputId": "f0e280c1-3d15-4a12-a28e-e81d6232d52c"
      },
      "execution_count": 24,
      "outputs": [
        {
          "output_type": "stream",
          "name": "stdout",
          "text": [
            "Root-mean-square error of maxIter 10 and regParam 0.5 = 1.234296831235781\n"
          ]
        }
      ]
    },
    {
      "cell_type": "markdown",
      "source": [
        "maxIter=10 and  regParam=1"
      ],
      "metadata": {
        "id": "YMfO4NTwRbEz"
      }
    },
    {
      "cell_type": "code",
      "source": [
        "# Build the recommendation model using ALS on the training data\n",
        "# Note we set cold start strategy to 'drop' to ensure we don't get NaN evaluation metrics\n",
        "als8 = ALS(maxIter=10, regParam=1.0, userCol=\"userId\", itemCol=\"movieId\", ratingCol=\"rating\",\n",
        "          coldStartStrategy=\"drop\")\n",
        "model8 = als8.fit(training)"
      ],
      "metadata": {
        "id": "SKuAO8XUECeS"
      },
      "execution_count": 30,
      "outputs": []
    },
    {
      "cell_type": "code",
      "source": [
        "predictions8 = model8.transform(test)\n",
        "evaluator8 = RegressionEvaluator(metricName=\"rmse\", labelCol=\"rating\",\n",
        "                                predictionCol=\"prediction\")\n",
        "rmse = evaluator8.evaluate(predictions8)\n",
        "print(\"Root-mean-square error of maxIter 10 and regParam 1.0 = \" + str(rmse))"
      ],
      "metadata": {
        "colab": {
          "base_uri": "https://localhost:8080/"
        },
        "id": "bkIpoGrsEEmn",
        "outputId": "68fc8ef6-91e0-40fd-f33b-201aee9a1a5a"
      },
      "execution_count": 32,
      "outputs": [
        {
          "output_type": "stream",
          "name": "stdout",
          "text": [
            "Root-mean-square error of maxIter 10 and regParam 1.0 = 1.5261781125164202\n"
          ]
        }
      ]
    },
    {
      "cell_type": "code",
      "source": [
        "# Generate top 10 movie recommendations for each user\n",
        "userRecs = model.recommendForAllUsers(10)"
      ],
      "metadata": {
        "id": "JvD--Xl9OyYd"
      },
      "execution_count": 35,
      "outputs": []
    },
    {
      "cell_type": "code",
      "source": [
        "# Generate top 10 user recommendations for each movie\n",
        "movieRecs = model.recommendForAllItems(10)"
      ],
      "metadata": {
        "id": "swuE-RbGO0nH"
      },
      "execution_count": 36,
      "outputs": []
    },
    {
      "cell_type": "code",
      "source": [
        "# Generate top 10 movie recommendations for a specified set of users\n",
        "users = ratings.select(als.getUserCol()).distinct().limit(3)\n",
        "userSubsetRecs = model.recommendForUserSubset(users, 10)"
      ],
      "metadata": {
        "id": "BpUZkMKeO2rD"
      },
      "execution_count": 33,
      "outputs": []
    },
    {
      "cell_type": "code",
      "source": [
        "# Generate top 10 user recommendations for a specified set of movies\n",
        "movies = ratings.select(als.getItemCol()).distinct().limit(3)\n",
        "movieSubSetRecs = model.recommendForItemSubset(movies, 10)"
      ],
      "metadata": {
        "id": "WiwP-yokO4Mh"
      },
      "execution_count": 34,
      "outputs": []
    },
    {
      "cell_type": "markdown",
      "source": [
        "# Summary\n",
        "\n",
        "\n",
        "1.   Load the dataset and preprocessed it\n",
        "\n",
        "1.   Testing with different combination of maxIter and regParam and evaluate the models\n",
        "3.   By looking at the above-mentioned models, we can observe that the performance of the models is affected by two main factors, which are maxIter and regParam. A regParam closer to 0.1 and a larger value of maxIter (10 > 5) tend to yield better RMSE values.\n",
        "\n"
      ],
      "metadata": {
        "id": "BwymwzCSO-08"
      }
    }
  ]
}