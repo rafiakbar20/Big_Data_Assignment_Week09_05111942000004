{
  "nbformat": 4,
  "nbformat_minor": 0,
  "metadata": {
    "colab": {
      "provenance": []
    },
    "kernelspec": {
      "name": "python3",
      "display_name": "Python 3"
    },
    "language_info": {
      "name": "python"
    }
  },
  "cells": [
    {
      "cell_type": "markdown",
      "source": [
        "# BIG DATA ASSIGNMENT WEEK 09\n",
        "## Colaborative Filtering\n",
        "- Rafi Akbar Rafsanjani\n",
        "- 05111942000004"
      ],
      "metadata": {
        "id": "P6aMQqXyYgvq"
      }
    },
    {
      "cell_type": "markdown",
      "source": [
        "## Install & Initialization"
      ],
      "metadata": {
        "id": "04yPtlr6cZFd"
      }
    },
    {
      "cell_type": "code",
      "source": [
        "!pip install pyspark"
      ],
      "metadata": {
        "colab": {
          "base_uri": "https://localhost:8080/"
        },
        "id": "YpV-1LjXbtxo",
        "outputId": "67b41eab-b1a1-4b63-b79c-f5d465dd9b26"
      },
      "execution_count": 1,
      "outputs": [
        {
          "output_type": "stream",
          "name": "stdout",
          "text": [
            "Looking in indexes: https://pypi.org/simple, https://us-python.pkg.dev/colab-wheels/public/simple/\n",
            "Collecting pyspark\n",
            "  Downloading pyspark-3.3.2.tar.gz (281.4 MB)\n",
            "\u001b[2K     \u001b[90m━━━━━━━━━━━━━━━━━━━━━━━━━━━━━━━━━━━━━━━\u001b[0m \u001b[32m281.4/281.4 MB\u001b[0m \u001b[31m4.6 MB/s\u001b[0m eta \u001b[36m0:00:00\u001b[0m\n",
            "\u001b[?25h  Preparing metadata (setup.py) ... \u001b[?25l\u001b[?25hdone\n",
            "Collecting py4j==0.10.9.5\n",
            "  Downloading py4j-0.10.9.5-py2.py3-none-any.whl (199 kB)\n",
            "\u001b[2K     \u001b[90m━━━━━━━━━━━━━━━━━━━━━━━━━━━━━━━━━━━━━━\u001b[0m \u001b[32m199.7/199.7 kB\u001b[0m \u001b[31m14.4 MB/s\u001b[0m eta \u001b[36m0:00:00\u001b[0m\n",
            "\u001b[?25hBuilding wheels for collected packages: pyspark\n",
            "  Building wheel for pyspark (setup.py) ... \u001b[?25l\u001b[?25hdone\n",
            "  Created wheel for pyspark: filename=pyspark-3.3.2-py2.py3-none-any.whl size=281824028 sha256=badccb944eb4b84c54d2eda2bd2552994f216141a1134cb35cd2411d6a111966\n",
            "  Stored in directory: /root/.cache/pip/wheels/6c/e3/9b/0525ce8a69478916513509d43693511463c6468db0de237c86\n",
            "Successfully built pyspark\n",
            "Installing collected packages: py4j, pyspark\n",
            "  Attempting uninstall: py4j\n",
            "    Found existing installation: py4j 0.10.9.7\n",
            "    Uninstalling py4j-0.10.9.7:\n",
            "      Successfully uninstalled py4j-0.10.9.7\n",
            "Successfully installed py4j-0.10.9.5 pyspark-3.3.2\n"
          ]
        }
      ]
    },
    {
      "cell_type": "code",
      "execution_count": 2,
      "metadata": {
        "id": "uyf4Js8QUJRs"
      },
      "outputs": [],
      "source": [
        "from pyspark.ml.evaluation import RegressionEvaluator\n",
        "from pyspark.ml.recommendation import ALS\n",
        "from pyspark.sql import Row, SparkSession"
      ]
    },
    {
      "cell_type": "code",
      "source": [
        "# SparkSession Initialization\n",
        "spark = SparkSession.builder \\\n",
        "    .master(\"local\") \\\n",
        "    .appName(\"MovieLens\") \\\n",
        "    .getOrCreate()"
      ],
      "metadata": {
        "id": "ZOw36xr-cXSg"
      },
      "execution_count": 3,
      "outputs": []
    },
    {
      "cell_type": "code",
      "source": [
        "# Read data from a text file and separate elements of each line\n",
        "lines = spark.read.text(\"/content/sample_movielens_ratings.txt\").rdd\n",
        "parts = lines.map(lambda row: row.value.split(\"::\"))"
      ],
      "metadata": {
        "id": "iRyks7BXcLXg"
      },
      "execution_count": 5,
      "outputs": []
    },
    {
      "cell_type": "code",
      "source": [
        "# Convert data into a DataFrame with userId, movieId, rating, and timestamp columns\n",
        "ratingsRDD = parts.map(lambda p: Row(userId=int(p[0]), movieId=int(p[1]),\n",
        "                                     rating=float(p[2]), timestamp=int(p[3])))\n",
        "\n",
        "# Split the data into training (80%) and testing (20%) sets\n",
        "ratings = spark.createDataFrame(ratingsRDD)\n",
        "(training, test) = ratings.randomSplit([0.8, 0.2])"
      ],
      "metadata": {
        "id": "Irq7eQ-pcpje"
      },
      "execution_count": 6,
      "outputs": []
    },
    {
      "cell_type": "markdown",
      "source": [
        "## Build Recomendation model using ALS"
      ],
      "metadata": {
        "id": "ENUHxo2zc1lp"
      }
    },
    {
      "cell_type": "code",
      "source": [
        "# Initialize the parameters to be tried\n",
        "max_iters = [5, 10, 20]\n",
        "reg_params = [0.1, 0.5, 1.0]\n",
        "\n",
        "# Dictionary to store RMSE results\n",
        "results = {}"
      ],
      "metadata": {
        "id": "-TZlAsuvc2nR"
      },
      "execution_count": 7,
      "outputs": []
    },
    {
      "cell_type": "code",
      "source": [
        "# Loop for every combination of maxIter and regParam\n",
        "for max_iter in max_iters:\n",
        "    for reg_param in reg_params:\n",
        "        # Build the recommendation model using ALS on the training data\n",
        "        # Note we set cold start strategy to 'drop' to ensure we don't get NaN evaluation metrics\n",
        "        als = ALS(maxIter=max_iter, regParam=reg_param, userCol=\"userId\", itemCol=\"movieId\", ratingCol=\"rating\",\n",
        "                  coldStartStrategy=\"drop\")\n",
        "        model = als.fit(training)\n",
        "\n",
        "        # Evaluate the model by computing the RMSE on the test data\n",
        "        predictions = model.transform(test)\n",
        "        evaluator = RegressionEvaluator(metricName=\"rmse\", labelCol=\"rating\",\n",
        "                                        predictionCol=\"prediction\")\n",
        "        rmse = evaluator.evaluate(predictions)\n",
        "\n",
        "        # Save the RMSE result in the dictionary\n",
        "        results[(max_iter, reg_param)] = rmse\n",
        "        print(f\"Root-mean-square error for maxIter={max_iter}, regParam={reg_param} = {rmse}\")"
      ],
      "metadata": {
        "colab": {
          "base_uri": "https://localhost:8080/"
        },
        "id": "fht2Tod2dBUn",
        "outputId": "9ef915f9-b9b2-446f-9fe2-7ccaac528ca8"
      },
      "execution_count": 8,
      "outputs": [
        {
          "output_type": "stream",
          "name": "stdout",
          "text": [
            "Root-mean-square error for maxIter=5, regParam=0.1 = 1.0459830613833163\n",
            "Root-mean-square error for maxIter=5, regParam=0.5 = 1.2894025106664904\n",
            "Root-mean-square error for maxIter=5, regParam=1.0 = 1.5713764674497686\n",
            "Root-mean-square error for maxIter=10, regParam=0.1 = 0.9601964615335945\n",
            "Root-mean-square error for maxIter=10, regParam=0.5 = 1.281481369209705\n",
            "Root-mean-square error for maxIter=10, regParam=1.0 = 1.5713748150735862\n",
            "Root-mean-square error for maxIter=20, regParam=0.1 = 0.9500120213865103\n",
            "Root-mean-square error for maxIter=20, regParam=0.5 = 1.2815220299506749\n",
            "Root-mean-square error for maxIter=20, regParam=1.0 = 1.5713748199752815\n"
          ]
        }
      ]
    },
    {
      "cell_type": "code",
      "source": [
        "# Find the hyperparameter combination with the lowest RMSE\n",
        "best_params = min(results, key=results.get)\n",
        "best_rmse = results[best_params]\n",
        "print(f\"\\nBest hyperparameters: maxIter={best_params[0]}, regParam={best_params[1]} with RMSE={best_rmse}\")"
      ],
      "metadata": {
        "colab": {
          "base_uri": "https://localhost:8080/"
        },
        "id": "V6dyevEcdtLb",
        "outputId": "0d7d7043-6ced-4c0b-e785-9eecc145fd7c"
      },
      "execution_count": 9,
      "outputs": [
        {
          "output_type": "stream",
          "name": "stdout",
          "text": [
            "\n",
            "Best hyperparameters: maxIter=20, regParam=0.1 with RMSE=0.9500120213865103\n"
          ]
        }
      ]
    },
    {
      "cell_type": "markdown",
      "source": [
        "## Generate Movie Recomendation"
      ],
      "metadata": {
        "id": "5ddaY8Xpdx2c"
      }
    },
    {
      "cell_type": "code",
      "source": [
        "# Train the model with the best hyperparameters\n",
        "best_als = ALS(maxIter=best_params[0], regParam=best_params[1], userCol=\"userId\", itemCol=\"movieId\", ratingCol=\"rating\",\n",
        "               coldStartStrategy=\"drop\")\n",
        "best_model = best_als.fit(training)"
      ],
      "metadata": {
        "id": "uPvYb4GQeTBt"
      },
      "execution_count": 10,
      "outputs": []
    },
    {
      "cell_type": "markdown",
      "source": [
        "## Print Result and Show Ouput"
      ],
      "metadata": {
        "id": "2Z-qkZIhiD-s"
      }
    },
    {
      "cell_type": "code",
      "source": [
        "# Generate top 10 movie recommendations for each user\n",
        "userRecs = best_model.recommendForAllUsers(10)\n",
        "userRecs.show()"
      ],
      "metadata": {
        "colab": {
          "base_uri": "https://localhost:8080/"
        },
        "id": "Q3HGd9Tpd3UD",
        "outputId": "ca3a839f-209d-4b59-c404-5ae1ba0221c0"
      },
      "execution_count": 11,
      "outputs": [
        {
          "output_type": "stream",
          "name": "stdout",
          "text": [
            "+------+--------------------+\n",
            "|userId|     recommendations|\n",
            "+------+--------------------+\n",
            "|    20|[{22, 3.8107607},...|\n",
            "|    10|[{92, 3.1808662},...|\n",
            "|     0|[{92, 2.7941234},...|\n",
            "|     1|[{62, 3.167192}, ...|\n",
            "|    21|[{29, 4.292471}, ...|\n",
            "|    11|[{30, 4.5209475},...|\n",
            "|    12|[{46, 5.1609254},...|\n",
            "|    22|[{74, 4.385069}, ...|\n",
            "|     2|[{93, 4.29524}, {...|\n",
            "|    13|[{52, 3.3166378},...|\n",
            "|     3|[{51, 4.147035}, ...|\n",
            "|    23|[{46, 4.992766}, ...|\n",
            "|     4|[{74, 3.4080062},...|\n",
            "|    24|[{52, 4.58324}, {...|\n",
            "|    14|[{29, 4.6909695},...|\n",
            "|     5|[{46, 4.699138}, ...|\n",
            "|    15|[{46, 4.2682977},...|\n",
            "|    25|[{46, 3.1945887},...|\n",
            "|    26|[{32, 5.0091343},...|\n",
            "|     6|[{25, 4.006712}, ...|\n",
            "+------+--------------------+\n",
            "only showing top 20 rows\n",
            "\n"
          ]
        }
      ]
    },
    {
      "cell_type": "code",
      "source": [
        "# Generate top 10 user recommendations for each movie\n",
        "movieRecs = best_model.recommendForAllItems(10)\n",
        "movieRecs.show()"
      ],
      "metadata": {
        "colab": {
          "base_uri": "https://localhost:8080/"
        },
        "id": "26G0mKPih_zp",
        "outputId": "52492282-86a7-4749-8334-4c532261733a"
      },
      "execution_count": 12,
      "outputs": [
        {
          "output_type": "stream",
          "name": "stdout",
          "text": [
            "+-------+--------------------+\n",
            "|movieId|     recommendations|\n",
            "+-------+--------------------+\n",
            "|     20|[{17, 3.8052187},...|\n",
            "|     40|[{28, 3.5157113},...|\n",
            "|     10|[{17, 3.0356047},...|\n",
            "|     50|[{23, 3.6350877},...|\n",
            "|     80|[{26, 3.299038}, ...|\n",
            "|     70|[{4, 3.0145392}, ...|\n",
            "|     60|[{8, 2.3175797}, ...|\n",
            "|     90|[{24, 4.35687}, {...|\n",
            "|     30|[{11, 4.5209475},...|\n",
            "|      0|[{12, 1.1367803},...|\n",
            "|     31|[{7, 2.4439905}, ...|\n",
            "|     81|[{28, 4.1144366},...|\n",
            "|     91|[{12, 2.6076496},...|\n",
            "|      1|[{12, 2.828721}, ...|\n",
            "|     41|[{4, 3.1798055}, ...|\n",
            "|     61|[{6, 2.1949468}, ...|\n",
            "|     51|[{26, 4.839849}, ...|\n",
            "|     21|[{26, 2.8554924},...|\n",
            "|     11|[{18, 3.2296104},...|\n",
            "|     71|[{25, 2.9940975},...|\n",
            "+-------+--------------------+\n",
            "only showing top 20 rows\n",
            "\n"
          ]
        }
      ]
    },
    {
      "cell_type": "code",
      "source": [
        "# Generate top 10 movie recommendations for a specific set of users\n",
        "users = ratings.select(best_als.getUserCol()).distinct().limit(3)\n",
        "userSubsetRecs = best_model.recommendForUserSubset(users, 10)\n",
        "userSubsetRecs.show()"
      ],
      "metadata": {
        "colab": {
          "base_uri": "https://localhost:8080/"
        },
        "id": "BSV5apxxiPRu",
        "outputId": "92ebe750-4f12-4923-95bd-0c5e5545b460"
      },
      "execution_count": 13,
      "outputs": [
        {
          "output_type": "stream",
          "name": "stdout",
          "text": [
            "+------+--------------------+\n",
            "|userId|     recommendations|\n",
            "+------+--------------------+\n",
            "|    26|[{32, 5.0091343},...|\n",
            "|    19|[{90, 3.2949443},...|\n",
            "|    29|[{46, 4.328896}, ...|\n",
            "+------+--------------------+\n",
            "\n"
          ]
        }
      ]
    },
    {
      "cell_type": "code",
      "source": [
        "# Generate top 10 user recommendations for a specific set of movies\n",
        "movies = ratings.select(best_als.getItemCol()).distinct().limit(3)\n",
        "movieSubSetRecs = best_model.recommendForItemSubset(movies, 10)\n",
        "movieSubSetRecs.show()"
      ],
      "metadata": {
        "colab": {
          "base_uri": "https://localhost:8080/"
        },
        "id": "6aRST13giYKc",
        "outputId": "e6eba9c1-7c44-493a-9be8-8d69d2b9e3d7"
      },
      "execution_count": 14,
      "outputs": [
        {
          "output_type": "stream",
          "name": "stdout",
          "text": [
            "+-------+--------------------+\n",
            "|movieId|     recommendations|\n",
            "+-------+--------------------+\n",
            "|     65|[{23, 3.817163}, ...|\n",
            "|     26|[{15, 2.2117326},...|\n",
            "|     29|[{14, 4.6909695},...|\n",
            "+-------+--------------------+\n",
            "\n"
          ]
        }
      ]
    },
    {
      "cell_type": "markdown",
      "source": [
        "## Summary\n",
        "\n",
        "To summarize the process, the team performed data loading and preprocessing by splitting the MovieLens dataset into training and test sets. They then conducted hyperparameter tuning by testing various combinations of maxIter and regParam values and recorded the results in an RMSE dictionary. The team selected the best hyperparameters based on the lowest RMSE and displayed the results. Lastly, they trained the model using the best hyperparameters and produced recommendations for all users, movies, and specific subsets. The recommendations included the top 10 suggestions for each user, movie, and selected subset.\n",
        "\n",
        "\n",
        "\n"
      ],
      "metadata": {
        "id": "62lVjnkcicYu"
      }
    }
  ]
}