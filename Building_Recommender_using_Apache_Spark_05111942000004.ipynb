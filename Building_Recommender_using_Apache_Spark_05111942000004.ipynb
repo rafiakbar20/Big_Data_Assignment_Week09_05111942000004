{
  "cells": [
    {
      "cell_type": "markdown",
      "metadata": {
        "id": "TpZ9D9SVj1YD"
      },
      "source": [
        "# BIG DATA ASSIGNMENT WEEK 09\n",
        "## Building Recommender using Apache Spark\n",
        "- Rafi Akbar Rafsanjani\n",
        "- 05111942000004\n"
      ]
    },
    {
      "cell_type": "markdown",
      "metadata": {
        "id": "j2tUEl2ckB28"
      },
      "source": [
        "# An on-line movie recommending service using Spark & Flask - Building the recommender"
      ]
    },
    {
      "cell_type": "markdown",
      "metadata": {
        "id": "luTl1Id_keby"
      },
      "source": [
        "This notebook explains how to use the [MovieLens dataset](http://grouplens.org/datasets/movielens/) to build a movie recommender using [collaborative filtering](https://en.wikipedia.org/wiki/Recommender_system#Collaborative_filtering) with [Spark's Alternating Least Saqures](https://spark.apache.org/docs/latest/mllib-collaborative-filtering.html) implementation. It is organised in two parts. The first one is about getting and parsing movies and ratings data into Spark RDDs. The second is about building and using the recommender and persisting it for later use in our on-line recommender system."
      ]
    },
    {
      "cell_type": "markdown",
      "metadata": {
        "id": "MTwJmm7UkhNS"
      },
      "source": [
        "This tutorial can be used independently to build a movie recommender model based on the MovieLens dataset. Most of the code in this first part, about how to use ALS with the public MovieLens dataset, comes from my solution to one of the exercises proposed in the [CS100.1x Introduction to Big Data with Apache Spark by Anthony D. Joseph on edX](https://www.edx.org/course/introduction-big-data-apache-spark-uc-berkeleyx-cs100-1x), that is also [**publicly available since 2014 at Spark Summit**](https://databricks-training.s3.amazonaws.com/movie-recommendation-with-mllib.html) . There I've added with minor modifications to use a larger dataset and also code about how to store and reload the model for later use."
      ]
    },
    {
      "cell_type": "markdown",
      "metadata": {
        "id": "XeFGH3tokG_w"
      },
      "source": [
        "## Getting and processing the data"
      ]
    },
    {
      "cell_type": "markdown",
      "metadata": {
        "id": "LxqON9sqkbR0"
      },
      "source": [
        "In order to build an on-line movie recommender using Spark, we need to have our model data as preprocessed as possible. Parsing the dataset and building the model everytime a new recommendation needs to be done is not the best of the strategies."
      ]
    },
    {
      "cell_type": "markdown",
      "metadata": {
        "id": "FavSkGgEknlY"
      },
      "source": [
        "The list of task we can pre-compute includes:\n",
        "- Loading and parsing the dataset. Persisting the resulting RDD for later use.\n",
        "- Building the recommender model using the complete dataset. Persist the dataset for later use.\n",
        "\n",
        "</br>\n",
        "This notebook explains the first of these tasks."
      ]
    },
    {
      "cell_type": "markdown",
      "metadata": {
        "id": "lqukIDBpmnhN"
      },
      "source": [
        "### File download"
      ]
    },
    {
      "cell_type": "markdown",
      "metadata": {
        "id": "0k0tfkY2mr6J"
      },
      "source": [
        "GroupLens Research has collected and made available rating data sets from the [MovieLens web site](http://movielens.org). The data sets were collected over various periods of time, depending on the size of the set. They can be found [here](http://grouplens.org/datasets/movielens/)."
      ]
    },
    {
      "cell_type": "markdown",
      "metadata": {
        "id": "ahIK3GVGmwAc"
      },
      "source": [
        "In our case, we will use the latest datasets:\n",
        "\n",
        "- Small: 100,000 ratings and 2,488 tag applications applied to 8,570 movies by 706 users. Last updated 4/2015.\n",
        "- Full: 21,000,000 ratings and 470,000 tag applications applied to 27,000 movies by 230,000 users. Last updated 4/2015."
      ]
    },
    {
      "cell_type": "code",
      "execution_count": 1,
      "metadata": {
        "id": "bhTU-uMejhFB"
      },
      "outputs": [],
      "source": [
        "complete_dataset_url = 'http://files.grouplens.org/datasets/movielens/ml-latest.zip'\n",
        "small_dataset_url = 'http://files.grouplens.org/datasets/movielens/ml-latest-small.zip'"
      ]
    },
    {
      "cell_type": "markdown",
      "metadata": {
        "id": "9qoyn6iRm7Fj"
      },
      "source": [
        "We also need to define download locations."
      ]
    },
    {
      "cell_type": "code",
      "execution_count": 2,
      "metadata": {
        "id": "n5LbLD_fm7rR"
      },
      "outputs": [],
      "source": [
        "small_dataset_path = 'datasets/ml-latest-small.zip'\n",
        "complete_dataset_path = 'datasets/ml-latest.zip'\n",
        "\n",
        "import os\n",
        "if not os.path.exists('datasets'):\n",
        "    os.makedirs('datasets')\n",
        "\n",
        "datasets_path = os.path.join('..', 'datasets')\n"
      ]
    },
    {
      "cell_type": "markdown",
      "metadata": {
        "id": "j4GcCKeFnBTH"
      },
      "source": [
        "Now we can proceed with both downloads."
      ]
    },
    {
      "cell_type": "code",
      "execution_count": 3,
      "metadata": {
        "id": "nim___EUnBsc"
      },
      "outputs": [],
      "source": [
        "import urllib.request\n",
        "\n",
        "small_f = urllib.request.urlretrieve(small_dataset_url, small_dataset_path)\n",
        "complete_f = urllib.request.urlretrieve(complete_dataset_url, complete_dataset_path)"
      ]
    },
    {
      "cell_type": "markdown",
      "metadata": {
        "id": "p2xHJWlDqiFy"
      },
      "source": [
        "Both of them are zip files containing a folder with ratings, movies, etc. We need to extract them into its individual folders so we can use each file later on."
      ]
    },
    {
      "cell_type": "code",
      "execution_count": 4,
      "metadata": {
        "id": "-kzE1KlUqjEk"
      },
      "outputs": [],
      "source": [
        "import zipfile\n",
        "\n",
        "with zipfile.ZipFile(small_dataset_path, \"r\") as z:\n",
        "    z.extractall(datasets_path)\n",
        "\n",
        "with zipfile.ZipFile(complete_dataset_path, \"r\") as z:\n",
        "    z.extractall(datasets_path)"
      ]
    },
    {
      "cell_type": "markdown",
      "metadata": {
        "id": "K7oKG2lvq6Er"
      },
      "source": [
        "### Loading and parsing datasets"
      ]
    },
    {
      "cell_type": "markdown",
      "metadata": {
        "id": "4wnc1ORKq7Rk"
      },
      "source": [
        "Each line in the ratings dataset (`ratings.csv`) is formatted as: </br> `userId,movieId,rating,timestamp` </br>\n",
        "</br>\n",
        "Each line in the movies (`movies.csv`) dataset is formatted as:  </br>\n",
        "</br>\n",
        "`movieId,title,genres`  </br>\n",
        "</br>\n",
        "Were *genres* has the format:  </br>\n",
        "</br>\n",
        "`Genre1|Genre2|Genre3...`</br>\n",
        "</br>\n",
        "The tags file (`tags.csv`) has the format:  </br>\n",
        "</br>\n",
        "`userId,movieId,tag,timestamp`  </br>\n",
        "</br>\n",
        "And finally, the `links.csv` file has the format:  </br>\n",
        "</br>\n",
        "`movieId,imdbId,tmdbId`  "
      ]
    },
    {
      "cell_type": "markdown",
      "metadata": {
        "id": "rceFGsoFr2Ls"
      },
      "source": [
        "The format of these files is uniform and simple, so we can use Python [`split()`](https://docs.python.org/2/library/stdtypes.html#str.split) to parse their lines once they are loaded into RDDs. Parsing the movies and ratings files yields two RDDs:  </br>\n",
        "* For each line in the ratings dataset, we create a tuple of `(UserID, MovieID, Rating)`. We drop the *timestamp* because we do not need it for this recommender.  </br>\n",
        "* For each line in the movies dataset, we create a tuple of `(MovieID, Title)`. We drop the *genres* because we do not use them for this recommender.  "
      ]
    },
    {
      "cell_type": "markdown",
      "metadata": {
        "id": "fv6O1bBIsDi3"
      },
      "source": [
        "So let's load the raw ratings data. We need to filter out the header, included in each file."
      ]
    },
    {
      "cell_type": "markdown",
      "metadata": {
        "id": "R_r_ivCrs5bt"
      },
      "source": [
        "Initialization and Install"
      ]
    },
    {
      "cell_type": "code",
      "execution_count": 5,
      "metadata": {
        "colab": {
          "base_uri": "https://localhost:8080/"
        },
        "id": "O0yWADgPsX8b",
        "outputId": "d31e2625-b41b-4f20-a204-3a1d668d7518"
      },
      "outputs": [
        {
          "output_type": "stream",
          "name": "stdout",
          "text": [
            "Looking in indexes: https://pypi.org/simple, https://us-python.pkg.dev/colab-wheels/public/simple/\n",
            "Collecting pyspark\n",
            "  Downloading pyspark-3.3.2.tar.gz (281.4 MB)\n",
            "\u001b[2K     \u001b[90m━━━━━━━━━━━━━━━━━━━━━━━━━━━━━━━━━━━━━━━\u001b[0m \u001b[32m281.4/281.4 MB\u001b[0m \u001b[31m4.2 MB/s\u001b[0m eta \u001b[36m0:00:00\u001b[0m\n",
            "\u001b[?25h  Preparing metadata (setup.py) ... \u001b[?25l\u001b[?25hdone\n",
            "Collecting py4j==0.10.9.5\n",
            "  Downloading py4j-0.10.9.5-py2.py3-none-any.whl (199 kB)\n",
            "\u001b[2K     \u001b[90m━━━━━━━━━━━━━━━━━━━━━━━━━━━━━━━━━━━━━━\u001b[0m \u001b[32m199.7/199.7 kB\u001b[0m \u001b[31m15.1 MB/s\u001b[0m eta \u001b[36m0:00:00\u001b[0m\n",
            "\u001b[?25hBuilding wheels for collected packages: pyspark\n",
            "  Building wheel for pyspark (setup.py) ... \u001b[?25l\u001b[?25hdone\n",
            "  Created wheel for pyspark: filename=pyspark-3.3.2-py2.py3-none-any.whl size=281824028 sha256=971edfb8613c753d1c956548bd21416674956113af4e2b652f67fe659c6a9c21\n",
            "  Stored in directory: /root/.cache/pip/wheels/6c/e3/9b/0525ce8a69478916513509d43693511463c6468db0de237c86\n",
            "Successfully built pyspark\n",
            "Installing collected packages: py4j, pyspark\n",
            "  Attempting uninstall: py4j\n",
            "    Found existing installation: py4j 0.10.9.7\n",
            "    Uninstalling py4j-0.10.9.7:\n",
            "      Successfully uninstalled py4j-0.10.9.7\n",
            "Successfully installed py4j-0.10.9.5 pyspark-3.3.2\n"
          ]
        }
      ],
      "source": [
        "!pip install pyspark"
      ]
    },
    {
      "cell_type": "code",
      "execution_count": 6,
      "metadata": {
        "id": "Kl8uqEG0spf_"
      },
      "outputs": [],
      "source": [
        "!apt-get install openjdk-11-jdk-headless -qq > /dev/null\n",
        "import os\n",
        "os.environ[\"JAVA_HOME\"] = \"/usr/lib/jvm/java-11-openjdk-amd64\""
      ]
    },
    {
      "cell_type": "code",
      "execution_count": 7,
      "metadata": {
        "id": "YyRJFjMPbufb"
      },
      "outputs": [],
      "source": [
        "!apt-get install openjdk-8-jdk-headless -qq > /dev/null\n",
        "!wget -q https://archive.apache.org/dist/spark/spark-3.1.2/spark-3.1.2-bin-hadoop3.2.tgz\n",
        "!tar xf spark-3.1.2-bin-hadoop3.2.tgz\n",
        "!pip install -q findspark"
      ]
    },
    {
      "cell_type": "code",
      "execution_count": 8,
      "metadata": {
        "id": "j63_H-6ub1WD"
      },
      "outputs": [],
      "source": [
        "import os\n",
        "os.environ[\"JAVA_HOME\"] = \"/usr/lib/jvm/java-8-openjdk-amd64\"\n",
        "os.environ[\"SPARK_HOME\"] = \"/content/spark-3.1.2-bin-hadoop3.2\""
      ]
    },
    {
      "cell_type": "code",
      "execution_count": 9,
      "metadata": {
        "id": "6K7eU4MQb7JY"
      },
      "outputs": [],
      "source": [
        "import findspark\n",
        "findspark.init()"
      ]
    },
    {
      "cell_type": "code",
      "execution_count": 11,
      "metadata": {
        "id": "gfzDGhEsslNe"
      },
      "outputs": [],
      "source": [
        "from pyspark import SparkContext, SparkConf\n",
        "\n",
        "sc = SparkContext.getOrCreate()\n",
        "\n",
        "if sc.master == \"local[*]\":\n",
        "    conf = SparkConf().setAppName(\"MovieLens\").setMaster(\"local[*]\").set(\"spark.driver.memory\", \"4g\").set(\"spark.driver.extraJavaOptions\", \"-Xss8M\")\n",
        "    sc.stop()\n",
        "    sc = SparkContext(conf=conf)"
      ]
    },
    {
      "cell_type": "markdown",
      "source": [
        "So let's load the raw ratings data. We need to filter out the header, included in each file."
      ],
      "metadata": {
        "id": "rUWjerXW5HfY"
      }
    },
    {
      "cell_type": "code",
      "execution_count": 12,
      "metadata": {
        "id": "3-drzxnUsC2U"
      },
      "outputs": [],
      "source": [
        "small_ratings_file = os.path.join(datasets_path, 'ml-latest-small', 'ratings.csv')\n",
        "\n",
        "small_ratings_raw_data = sc.textFile(small_ratings_file)\n",
        "small_ratings_raw_data_header = small_ratings_raw_data.take(1)[0]"
      ]
    },
    {
      "cell_type": "markdown",
      "metadata": {
        "id": "raQLjjW7s9RT"
      },
      "source": [
        "Now we can parse the raw data into a new RDD."
      ]
    },
    {
      "cell_type": "code",
      "execution_count": 13,
      "metadata": {
        "id": "75rlbkBks98I"
      },
      "outputs": [],
      "source": [
        "small_ratings_data = small_ratings_raw_data.filter(lambda line: line!=small_ratings_raw_data_header)\\\n",
        "    .map(lambda line: line.split(\",\")).map(lambda tokens: (tokens[0],tokens[1],tokens[2])).cache()"
      ]
    },
    {
      "cell_type": "markdown",
      "metadata": {
        "id": "XcDPPrT1tEr0"
      },
      "source": [
        "For illustrative purposes, we can take the first few lines of our RDD to see the result. In the final script we don't call any Spark action (e.g. `take`) until needed, since they trigger actual computations in the cluster."
      ]
    },
    {
      "cell_type": "code",
      "execution_count": 14,
      "metadata": {
        "colab": {
          "base_uri": "https://localhost:8080/"
        },
        "id": "5iKS8AgVtFEq",
        "outputId": "22810e3c-7309-4d13-9960-04c5f0c435c5"
      },
      "outputs": [
        {
          "output_type": "execute_result",
          "data": {
            "text/plain": [
              "[('1', '1', '4.0'), ('1', '3', '4.0'), ('1', '6', '4.0')]"
            ]
          },
          "metadata": {},
          "execution_count": 14
        }
      ],
      "source": [
        "small_ratings_data.take(3)"
      ]
    },
    {
      "cell_type": "markdown",
      "metadata": {
        "id": "V9QXe6BHtODO"
      },
      "source": [
        "We proceed in a similar way with the `movies.csv` file."
      ]
    },
    {
      "cell_type": "code",
      "execution_count": 15,
      "metadata": {
        "colab": {
          "base_uri": "https://localhost:8080/"
        },
        "id": "c5PvWVlmtObL",
        "outputId": "f7676460-2327-48c1-ad27-76b1bd877553"
      },
      "outputs": [
        {
          "output_type": "execute_result",
          "data": {
            "text/plain": [
              "[('1', 'Toy Story (1995)'),\n",
              " ('2', 'Jumanji (1995)'),\n",
              " ('3', 'Grumpier Old Men (1995)')]"
            ]
          },
          "metadata": {},
          "execution_count": 15
        }
      ],
      "source": [
        "small_movies_file = os.path.join(datasets_path, 'ml-latest-small', 'movies.csv')\n",
        "\n",
        "small_movies_raw_data = sc.textFile(small_movies_file)\n",
        "small_movies_raw_data_header = small_movies_raw_data.take(1)[0]\n",
        "\n",
        "small_movies_data = small_movies_raw_data.filter(lambda line: line!=small_movies_raw_data_header)\\\n",
        "    .map(lambda line: line.split(\",\")).map(lambda tokens: (tokens[0],tokens[1])).cache()\n",
        "    \n",
        "small_movies_data.take(3)"
      ]
    },
    {
      "cell_type": "markdown",
      "metadata": {
        "id": "aoGZGtuMtTQs"
      },
      "source": [
        "The following sections introduce Collaborative Filtering and explain how to use Spark MLlib to build a recommender model. We will close the tutorial by explaining how a model such this is used to make recommendations, and how to persist it for later use (e.g. in our Python/flask web-service)."
      ]
    },
    {
      "cell_type": "markdown",
      "metadata": {
        "id": "ABAvQTp4tT5e"
      },
      "source": [
        "## Collaborative Filtering"
      ]
    },
    {
      "cell_type": "markdown",
      "metadata": {
        "id": "xgSgHcKdttLz"
      },
      "source": [
        "In Collaborative filtering we make predictions (filtering) about the interests of a user by collecting preferences or taste information from many users (collaborating). The underlying assumption is that if a user A has the same opinion as a user B on an issue, A is more likely to have B's opinion on a different issue x than to have the opinion on x of a user chosen randomly."
      ]
    },
    {
      "cell_type": "markdown",
      "metadata": {
        "id": "QXHeym9etttU"
      },
      "source": [
        "The image below (from [Wikipedia](https://en.wikipedia.org/?title=Collaborative_filtering)) shows an example of collaborative filtering. At first, people rate different items (like videos, images, games). Then, the system makes predictions about a user's rating for an item not rated yet. The new predictions are built upon the existing ratings of other users with similar ratings with the active user. In the image, the system predicts that the user will not like the video."
      ]
    },
    {
      "cell_type": "markdown",
      "metadata": {
        "id": "BUIEgUket04I"
      },
      "source": [
        "![collaborative filtering](https://upload.wikimedia.org/wikipedia/commons/5/52/Collaborative_filtering.gif)"
      ]
    },
    {
      "cell_type": "markdown",
      "metadata": {
        "id": "gVMaxzMht4hS"
      },
      "source": [
        "Spark MLlib library for Machine Learning provides a [Collaborative Filtering](https://spark.apache.org/docs/latest/mllib-collaborative-filtering.html) implementation by using [Alternating Least Squares](http://dl.acm.org/citation.cfm?id=1608614). The implementation in MLlib has the following parameters:  </br>\n",
        "- numBlocks is the number of blocks used to parallelize computation (set to -1 to auto-configure).  \n",
        "- rank is the number of latent factors in the model.  \n",
        "- iterations is the number of iterations to run.  \n",
        "- lambda specifies the regularization parameter in ALS.  \n",
        "- implicitPrefs specifies whether to use the explicit feedback ALS variant or one adapted for implicit feedback data.  \n",
        "- alpha is a parameter applicable to the implicit feedback variant of ALS that governs the baseline confidence in preference observations."
      ]
    },
    {
      "cell_type": "markdown",
      "metadata": {
        "id": "voxXEN81uH8l"
      },
      "source": [
        "## Selecting ALS parameters using the small dataset"
      ]
    },
    {
      "cell_type": "markdown",
      "metadata": {
        "id": "q_g8o4JsuK_q"
      },
      "source": [
        "In order to determine the best ALS parameters, we will use the small dataset. We need first to split it into train, validation, and test datasets."
      ]
    },
    {
      "cell_type": "code",
      "execution_count": 16,
      "metadata": {
        "id": "zF7VOytquNbB"
      },
      "outputs": [],
      "source": [
        "training_RDD, validation_RDD, test_RDD = small_ratings_data.randomSplit([6, 2, 2], seed=0)\n",
        "validation_for_predict_RDD = validation_RDD.map(lambda x: (x[0], x[1]))\n",
        "test_for_predict_RDD = test_RDD.map(lambda x: (x[0], x[1]))"
      ]
    },
    {
      "cell_type": "markdown",
      "metadata": {
        "id": "EWtpBVOnue3W"
      },
      "source": [
        "Now we can proceed with the training phase."
      ]
    },
    {
      "cell_type": "code",
      "execution_count": 17,
      "metadata": {
        "colab": {
          "base_uri": "https://localhost:8080/"
        },
        "id": "JMikDVbvufVe",
        "outputId": "aa21a33d-5558-4124-f799-7b67d83ddd39"
      },
      "outputs": [
        {
          "output_type": "stream",
          "name": "stdout",
          "text": [
            "For rank 4 the RMSE is 0.9121002114021121\n",
            "For rank 8 the RMSE is 0.9184327213070025\n",
            "For rank 12 the RMSE is 0.9160151537868968\n",
            "The best model was trained with rank 4\n"
          ]
        }
      ],
      "source": [
        "from pyspark.mllib.recommendation import ALS\n",
        "import math\n",
        "\n",
        "seed = 5\n",
        "iterations = 10\n",
        "regularization_parameter = 0.1\n",
        "ranks = [4, 8, 12]\n",
        "errors = [0, 0, 0]\n",
        "err = 0\n",
        "tolerance = 0.02\n",
        "\n",
        "min_error = float('inf')\n",
        "best_rank = -1\n",
        "best_iteration = -1\n",
        "for rank in ranks:\n",
        "    model = ALS.train(training_RDD, rank, seed=seed, iterations=iterations,\n",
        "                      lambda_=regularization_parameter)\n",
        "    predictions = model.predictAll(validation_for_predict_RDD).map(lambda r: ((r[0], r[1]), r[2]))\n",
        "    rates_and_preds = validation_RDD.map(lambda r: ((int(r[0]), int(r[1])), float(r[2]))).join(predictions)\n",
        "    error = math.sqrt(rates_and_preds.map(lambda r: (r[1][0] - r[1][1])**2).mean())\n",
        "    errors[err] = error\n",
        "    err += 1\n",
        "    print('For rank %s the RMSE is %s' % (rank, error))\n",
        "    if error < min_error:\n",
        "        min_error = error\n",
        "        best_rank = rank\n",
        "\n",
        "print('The best model was trained with rank %s' % best_rank)\n"
      ]
    },
    {
      "cell_type": "markdown",
      "metadata": {
        "id": "hj9JPVh_u9UW"
      },
      "source": [
        "But let's explain this a little bit. First, let's have a look at how our predictions look."
      ]
    },
    {
      "cell_type": "code",
      "execution_count": 18,
      "metadata": {
        "colab": {
          "base_uri": "https://localhost:8080/"
        },
        "id": "pMVn8MGqu9vv",
        "outputId": "f98a5165-aac2-4c97-cb23-1b9a13b32644"
      },
      "outputs": [
        {
          "output_type": "execute_result",
          "data": {
            "text/plain": [
              "[((372, 1084), 3.606783397597423),\n",
              " ((4, 1084), 3.653744361967948),\n",
              " ((402, 1084), 3.5469004231749226)]"
            ]
          },
          "metadata": {},
          "execution_count": 18
        }
      ],
      "source": [
        "predictions.take(3)"
      ]
    },
    {
      "cell_type": "markdown",
      "metadata": {
        "id": "zaM4f4LOvBln"
      },
      "source": [
        "Basically we have the UserID, the MovieID, and the Rating, as we have in our ratings dataset. In this case the predictions third element, the rating for that movie and user, is the predicted by our ALS model. </br>\n",
        "\n",
        "Then we join these with our validation data (the one that includes ratings) and the result looks as follows:"
      ]
    },
    {
      "cell_type": "code",
      "execution_count": 19,
      "metadata": {
        "colab": {
          "base_uri": "https://localhost:8080/"
        },
        "id": "_GyUOUfwvElr",
        "outputId": "550d9665-e9c5-44b3-e888-5510f55a61d1"
      },
      "outputs": [
        {
          "output_type": "execute_result",
          "data": {
            "text/plain": [
              "[((1, 457), (5.0, 4.478201277281334)),\n",
              " ((1, 1025), (5.0, 4.508338559183116)),\n",
              " ((1, 1089), (5.0, 4.927108181828176))]"
            ]
          },
          "metadata": {},
          "execution_count": 19
        }
      ],
      "source": [
        "rates_and_preds.take(3)"
      ]
    },
    {
      "cell_type": "markdown",
      "metadata": {
        "id": "GfN-PyDrvLNT"
      },
      "source": [
        "To that, we apply a squared difference and the we use the `mean()` action to get the MSE and apply `sqrt`. </br>\n",
        "\n",
        "Finally we test the selected model."
      ]
    },
    {
      "cell_type": "code",
      "execution_count": 20,
      "metadata": {
        "colab": {
          "base_uri": "https://localhost:8080/"
        },
        "id": "IcQRnOdSvON8",
        "outputId": "1f35cfa9-067b-4521-a7c6-8b58ccc0e6d6"
      },
      "outputs": [
        {
          "output_type": "stream",
          "name": "stdout",
          "text": [
            "For testing data the RMSE is 0.9121326039222192\n"
          ]
        }
      ],
      "source": [
        "model = ALS.train(training_RDD, best_rank, seed=seed, iterations=iterations,\n",
        "                      lambda_=regularization_parameter)\n",
        "predictions = model.predictAll(test_for_predict_RDD).map(lambda r: ((r[0], r[1]), r[2]))\n",
        "rates_and_preds = test_RDD.map(lambda r: ((int(r[0]), int(r[1])), float(r[2]))).join(predictions)\n",
        "error = math.sqrt(rates_and_preds.map(lambda r: (r[1][0] - r[1][1])**2).mean())\n",
        "    \n",
        "print('For testing data the RMSE is %s' % (error))"
      ]
    },
    {
      "cell_type": "markdown",
      "metadata": {
        "id": "LtVn-Iq7vZJE"
      },
      "source": [
        "## Using the complete dataset to build the final model"
      ]
    },
    {
      "cell_type": "markdown",
      "metadata": {
        "id": "oMWvk2ICvdOI"
      },
      "source": [
        "In order to build our recommender model, we will use the complete dataset. Therefore, we need to process it the same way we did with the small dataset."
      ]
    },
    {
      "cell_type": "code",
      "execution_count": 21,
      "metadata": {
        "colab": {
          "base_uri": "https://localhost:8080/"
        },
        "id": "UQW8rU1XvaMy",
        "outputId": "99d3b385-7eed-4dda-ed63-c9c0f08e714c"
      },
      "outputs": [
        {
          "output_type": "stream",
          "name": "stdout",
          "text": [
            "There are 27753444 recommendations in the complete dataset\n"
          ]
        }
      ],
      "source": [
        "# Load the complete dataset file\n",
        "complete_ratings_file = os.path.join(datasets_path, 'ml-latest', 'ratings.csv')\n",
        "complete_ratings_raw_data = sc.textFile(complete_ratings_file)\n",
        "complete_ratings_raw_data_header = complete_ratings_raw_data.take(1)[0]\n",
        "\n",
        "# Parse\n",
        "complete_ratings_data = complete_ratings_raw_data.filter(lambda line: line!=complete_ratings_raw_data_header)\\\n",
        "    .map(lambda line: line.split(\",\")).map(lambda tokens: (int(tokens[0]),int(tokens[1]),float(tokens[2]))).cache()\n",
        "    \n",
        "print(\"There are %s recommendations in the complete dataset\" % (complete_ratings_data.count()))"
      ]
    },
    {
      "cell_type": "markdown",
      "metadata": {
        "id": "_oiprgsxwgJ0"
      },
      "source": [
        "Now we are ready to train the recommender model."
      ]
    },
    {
      "cell_type": "code",
      "execution_count": 22,
      "metadata": {
        "id": "LNlBDPC6wgj5"
      },
      "outputs": [],
      "source": [
        "training_RDD, test_RDD = complete_ratings_data.randomSplit([7, 3], seed=0)\n",
        "\n",
        "complete_model = ALS.train(training_RDD, best_rank, seed=seed, \n",
        "                           iterations=iterations, lambda_=regularization_parameter)"
      ]
    },
    {
      "cell_type": "markdown",
      "metadata": {
        "id": "WfyDq5z6wn_y"
      },
      "source": [
        "Now we test on our testing set."
      ]
    },
    {
      "cell_type": "code",
      "execution_count": 23,
      "metadata": {
        "id": "yr3b6jLFwop2",
        "colab": {
          "base_uri": "https://localhost:8080/"
        },
        "outputId": "d7a2d214-4f66-4ae0-a3f6-03f0a66003c4"
      },
      "outputs": [
        {
          "output_type": "stream",
          "name": "stdout",
          "text": [
            "For testing data the RMSE is 0.8334782410156314\n"
          ]
        }
      ],
      "source": [
        "test_for_predict_RDD = test_RDD.map(lambda x: (x[0], x[1]))\n",
        "\n",
        "predictions = complete_model.predictAll(test_for_predict_RDD).map(lambda r: ((r[0], r[1]), r[2]))\n",
        "rates_and_preds = test_RDD.map(lambda r: ((int(r[0]), int(r[1])), float(r[2]))).join(predictions)\n",
        "error = math.sqrt(rates_and_preds.map(lambda r: (r[1][0] - r[1][1])**2).mean())\n",
        "    \n",
        "print('For testing data the RMSE is %s' % (error))"
      ]
    },
    {
      "cell_type": "markdown",
      "metadata": {
        "id": "WKnavmtVypfd"
      },
      "source": [
        "We can see how we got a more accurate recommender when using a much larger dataset."
      ]
    },
    {
      "cell_type": "markdown",
      "metadata": {
        "id": "nsAIogFfyvac"
      },
      "source": [
        "## How to make recommendations"
      ]
    },
    {
      "cell_type": "markdown",
      "metadata": {
        "id": "S07qlJsSyzxI"
      },
      "source": [
        "Although we aim at building an on-line movie recommender, now that we know how to have our recommender model ready, we can give it a try providing some movie recommendations. This will help us coiding the recommending engine later on when building the web service, and will explain how to use the model in any other circumstances."
      ]
    },
    {
      "cell_type": "markdown",
      "metadata": {
        "id": "Z6y9A3Vxy30r"
      },
      "source": [
        "When using collaborative filtering, getting recommendations is not as simple as predicting for the new entries using a previously generated model. Instead, we need to train again the model but including the new user preferences in order to compare them with other users in the dataset. That is, the recommender needs to be trained every time we have new user ratings (although a single model can be used by multiple users of course!). This makes the process expensive, and it is one of the reasons why scalability is a problem (and Spark a solution!). Once we have our model trained, we can reuse it to obtain top recomendations for a given user or an individual rating for a particular movie. These are less costly operations than training the model itself."
      ]
    },
    {
      "cell_type": "markdown",
      "metadata": {
        "id": "FFdK88c6y62c"
      },
      "source": [
        "So let's first load the movies complete file for later use."
      ]
    },
    {
      "cell_type": "code",
      "execution_count": 24,
      "metadata": {
        "colab": {
          "base_uri": "https://localhost:8080/"
        },
        "id": "QfDddpGoy7M9",
        "outputId": "f7babc2e-945e-4dbd-c3ac-591b78c94dad"
      },
      "outputs": [
        {
          "output_type": "stream",
          "name": "stdout",
          "text": [
            "There are 58098 movies in the complete dataset\n"
          ]
        }
      ],
      "source": [
        "complete_movies_file = os.path.join(datasets_path, 'ml-latest', 'movies.csv')\n",
        "complete_movies_raw_data = sc.textFile(complete_movies_file)\n",
        "complete_movies_raw_data_header = complete_movies_raw_data.take(1)[0]\n",
        "\n",
        "# Parse\n",
        "complete_movies_data = complete_movies_raw_data.filter(lambda line: line!=complete_movies_raw_data_header)\\\n",
        "    .map(lambda line: line.split(\",\")).map(lambda tokens: (int(tokens[0]),tokens[1],tokens[2])).cache()\n",
        "\n",
        "complete_movies_titles = complete_movies_data.map(lambda x: (int(x[0]),x[1]))\n",
        "    \n",
        "print(\"There are %s movies in the complete dataset\" % (complete_movies_titles.count()))"
      ]
    },
    {
      "cell_type": "markdown",
      "metadata": {
        "id": "_mkz7Dk10H7b"
      },
      "source": [
        "Another thing we want to do, is give recommendations of movies with a certain minimum number of ratings. For that, we need to count the number of ratings per movie."
      ]
    },
    {
      "cell_type": "code",
      "execution_count": 25,
      "metadata": {
        "id": "vUm-Dhiw0IgL"
      },
      "outputs": [],
      "source": [
        "def get_counts_and_averages(ID_and_ratings_tuple):\n",
        "    nratings = len(ID_and_ratings_tuple[1])\n",
        "    return ID_and_ratings_tuple[0], (nratings, float(sum(x for x in ID_and_ratings_tuple[1]))/nratings)\n",
        "\n",
        "movie_ID_with_ratings_RDD = (complete_ratings_data.map(lambda x: (x[1], x[2])).groupByKey())\n",
        "movie_ID_with_avg_ratings_RDD = movie_ID_with_ratings_RDD.map(get_counts_and_averages)\n",
        "movie_rating_counts_RDD = movie_ID_with_avg_ratings_RDD.map(lambda x: (x[0], x[1][0]))"
      ]
    },
    {
      "cell_type": "markdown",
      "metadata": {
        "id": "cTN4h_On0NSp"
      },
      "source": [
        "## Adding new user ratings"
      ]
    },
    {
      "cell_type": "markdown",
      "metadata": {
        "id": "Mi7qDpoD0S0B"
      },
      "source": [
        "Now we need to rate some movies for the new user. We will put them in a new RDD and we will use the user ID 0, that is not assigned in the MovieLens dataset. Check the [dataset](http://grouplens.org/datasets/movielens/) movies file for ID to Tittle assignment (so you know what movies are you actually rating)"
      ]
    },
    {
      "cell_type": "code",
      "execution_count": 26,
      "metadata": {
        "id": "7kDxQIQ70OT1",
        "colab": {
          "base_uri": "https://localhost:8080/"
        },
        "outputId": "e887b455-b15c-4247-8265-6d8e84fe6c6b"
      },
      "outputs": [
        {
          "output_type": "stream",
          "name": "stdout",
          "text": [
            "New user ratings: [(0, 260, 9), (0, 1, 8), (0, 16, 7), (0, 25, 8), (0, 32, 9), (0, 335, 4), (0, 379, 3), (0, 296, 7), (0, 858, 10), (0, 50, 8)]\n"
          ]
        }
      ],
      "source": [
        "new_user_ID = 0\n",
        "\n",
        "# The format of each line is (userID, movieID, rating)\n",
        "new_user_ratings = [\n",
        "     (0,260,9), # Star Wars (1977)\n",
        "     (0,1,8), # Toy Story (1995)\n",
        "     (0,16,7), # Casino (1995)\n",
        "     (0,25,8), # Leaving Las Vegas (1995)\n",
        "     (0,32,9), # Twelve Monkeys (a.k.a. 12 Monkeys) (1995)\n",
        "     (0,335,4), # Flintstones, The (1994)\n",
        "     (0,379,3), # Timecop (1994)\n",
        "     (0,296,7), # Pulp Fiction (1994)\n",
        "     (0,858,10) , # Godfather, The (1972)\n",
        "     (0,50,8) # Usual Suspects, The (1995)\n",
        "    ]\n",
        "new_user_ratings_RDD = sc.parallelize(new_user_ratings)\n",
        "print('New user ratings: %s' % new_user_ratings_RDD.take(10))"
      ]
    },
    {
      "cell_type": "markdown",
      "metadata": {
        "id": "4PziNOpe0a-i"
      },
      "source": [
        "Now we add them to the data we will use to train our recommender model. We use Spark's `union()` transformation for this."
      ]
    },
    {
      "cell_type": "code",
      "execution_count": 27,
      "metadata": {
        "id": "ENT1noof0ct1"
      },
      "outputs": [],
      "source": [
        "complete_data_with_new_ratings_RDD = complete_ratings_data.union(new_user_ratings_RDD)"
      ]
    },
    {
      "cell_type": "markdown",
      "metadata": {
        "id": "aij8ScEH0deq"
      },
      "source": [
        "And finally we train the ALS model using all the parameters we selected before (when using the small dataset)."
      ]
    },
    {
      "cell_type": "markdown",
      "metadata": {
        "id": "3ZcIfmHx1lZH"
      },
      "source": [
        "Setup Google COlaboratory for adding new user ratings because environtment not support."
      ]
    },
    {
      "cell_type": "code",
      "execution_count": 28,
      "metadata": {
        "id": "j2Gh-7120fJN",
        "colab": {
          "base_uri": "https://localhost:8080/"
        },
        "outputId": "199d334b-3ffa-4759-f02d-20df8068b1e2"
      },
      "outputs": [
        {
          "output_type": "stream",
          "name": "stdout",
          "text": [
            "New model trained in 251.07 seconds\n"
          ]
        }
      ],
      "source": [
        "from time import time\n",
        "\n",
        "t0 = time()\n",
        "new_ratings_model = ALS.train(complete_data_with_new_ratings_RDD, best_rank, seed=seed, \n",
        "                              iterations=iterations, lambda_=regularization_parameter)\n",
        "tt = time() - t0\n",
        "\n",
        "print(\"New model trained in %s seconds\" % round(tt,3))"
      ]
    },
    {
      "cell_type": "markdown",
      "metadata": {
        "id": "nKuKUufb0lME"
      },
      "source": [
        "It took some time. We will need to repeat that every time a user add new ratings. Ideally we will do this in batches, and not for every single rating that comes into the system for every user."
      ]
    },
    {
      "cell_type": "markdown",
      "metadata": {
        "id": "1XfSgk-20lwy"
      },
      "source": [
        "## Getting top recommendations"
      ]
    },
    {
      "cell_type": "markdown",
      "metadata": {
        "id": "iELKtxVN0nFI"
      },
      "source": [
        "Let's now get some recommendations! For that we will get an RDD with all the movies the new user hasn't rated yet. We will them together with the model to predict ratings."
      ]
    },
    {
      "cell_type": "code",
      "execution_count": 29,
      "metadata": {
        "id": "w_Bt5XZI0oLo"
      },
      "outputs": [],
      "source": [
        "new_user_ratings_ids = map(lambda x: x[1], new_user_ratings) # get just movie IDs\n",
        "# keep just those not on the ID list (thanks Lei Li for spotting the error!)\n",
        "new_user_unrated_movies_RDD = (complete_movies_data.filter(lambda x: x[0] not in new_user_ratings_ids).map(lambda x: (new_user_ID, x[0])))\n",
        "\n",
        "# Use the input RDD, new_user_unrated_movies_RDD, with new_ratings_model.predictAll() to predict new ratings for the movies\n",
        "new_user_recommendations_RDD = new_ratings_model.predictAll(new_user_unrated_movies_RDD)"
      ]
    },
    {
      "cell_type": "markdown",
      "metadata": {
        "id": "uI3YXDQl0Rao"
      },
      "source": [
        "We have our recommendations ready. Now we can print out the 25 movies with the highest predicted ratings. And join them with the movies RDD to get the titles, and ratings count in order to get movies with a minimum number of counts. First we will do the join and see what does the result looks like."
      ]
    },
    {
      "cell_type": "code",
      "execution_count": 30,
      "metadata": {
        "id": "OXDP8Rt70R_W",
        "colab": {
          "base_uri": "https://localhost:8080/"
        },
        "outputId": "f88b797a-40d5-4365-c747-7db29991f713"
      },
      "outputs": [
        {
          "output_type": "execute_result",
          "data": {
            "text/plain": [
              "[(6216,\n",
              "  ((7.173385575542827, 'Nowhere in Africa (Nirgendwo in Afrika) (2001)'),\n",
              "   717)),\n",
              " (124320, ((7.359570359697489, 'Once a Thief (1965)'), 1)),\n",
              " (83916, ((6.125867721800745, 'Blues in the Night (1941)'), 9))]"
            ]
          },
          "metadata": {},
          "execution_count": 30
        }
      ],
      "source": [
        "# Transform new_user_recommendations_RDD into pairs of the form (Movie ID, Predicted Rating)\n",
        "new_user_recommendations_rating_RDD = new_user_recommendations_RDD.map(lambda x: (x.product, x.rating))\n",
        "new_user_recommendations_rating_title_and_count_RDD = \\\n",
        "    new_user_recommendations_rating_RDD.join(complete_movies_titles).join(movie_rating_counts_RDD)\n",
        "new_user_recommendations_rating_title_and_count_RDD.take(3)"
      ]
    },
    {
      "cell_type": "markdown",
      "metadata": {
        "id": "ncv53WB00U_I"
      },
      "source": [
        "So we need to flat this down a bit in order to have `(Title, Rating, Ratings Count)`."
      ]
    },
    {
      "cell_type": "code",
      "execution_count": 31,
      "metadata": {
        "id": "0cbqEYyA0XBJ"
      },
      "outputs": [],
      "source": [
        "new_user_recommendations_rating_title_and_count_RDD = \\\n",
        "    new_user_recommendations_rating_title_and_count_RDD.map(lambda r: (r[1][0][1], r[1][0][0], r[1][1]))"
      ]
    },
    {
      "cell_type": "markdown",
      "metadata": {
        "id": "RX4Ta9f80cb2"
      },
      "source": [
        "Finally, get the highest rated recommendations for the new user, filtering out movies with less than 25 ratings."
      ]
    },
    {
      "cell_type": "code",
      "execution_count": 32,
      "metadata": {
        "id": "2Qj8e3Zt0dFv",
        "colab": {
          "base_uri": "https://localhost:8080/"
        },
        "outputId": "894c4320-e2b6-40f2-ceaf-75da57a55253"
      },
      "outputs": [
        {
          "output_type": "stream",
          "name": "stdout",
          "text": [
            "TOP recommended movies (with more than 25 reviews):\n",
            "('Rabbit of Seville (1950)', 8.60283332885939, 30)\n",
            "(\"Jim Henson's The Storyteller (1989)\", 8.544291232021493, 36)\n",
            "('\"Godfather', 8.52628915469041, 60904)\n",
            "('Cosmos', 8.52467364564589, 157)\n",
            "('Death on the Staircase (Soupçons) (2004)', 8.521656039332541, 130)\n",
            "('Music for One Apartment and Six Drummers (2001)', 8.502821262499474, 31)\n",
            "('\"Human Condition III', 8.495127363853982, 91)\n",
            "('Harakiri (Seppuku) (1962)', 8.494578606156566, 679)\n",
            "('\"I', 8.424360308543928, 85)\n",
            "('Planet Earth (2006)', 8.424323803290726, 1384)\n",
            "('Seven Samurai (Shichinin no samurai) (1954)', 8.400267161867603, 14578)\n",
            "('Planet Earth II (2016)', 8.398935611848366, 853)\n",
            "('Elway To Marino (2013)', 8.391344843680827, 25)\n",
            "('\"Last Lions', 8.391119159344683, 38)\n",
            "('Baseball (1994)', 8.390721419421908, 42)\n",
            "('Dr. Strangelove or: How I Learned to Stop Worrying and Love the Bomb (1964)', 8.388162211448673, 29484)\n",
            "('\"Godfather: Part II', 8.375398278118837, 38875)\n",
            "('The Godfather Trilogy: 1972-1990 (1992)', 8.369905593910595, 421)\n",
            "('Rabbit Fire (1951)', 8.368751322638992, 46)\n",
            "('\"Century of the Self', 8.364476108846738, 213)\n",
            "('Wow! A Talking Fish! (1983)', 8.362405770178015, 47)\n",
            "('Queen: Days of Our Lives (2011)', 8.348845326673057, 32)\n",
            "('The War (2007)', 8.348178095483902, 53)\n",
            "('\"Third Man', 8.347505384344196, 7980)\n",
            "('Paths of Glory (1957)', 8.347163445018865, 4508)\n"
          ]
        }
      ],
      "source": [
        "top_movies = new_user_recommendations_rating_title_and_count_RDD.filter(lambda r: r[2]>=25).takeOrdered(25, key=lambda x: -x[1])\n",
        "\n",
        "print ('TOP recommended movies (with more than 25 reviews):\\n%s' %\n",
        "        '\\n'.join(map(str, top_movies)))"
      ]
    },
    {
      "cell_type": "markdown",
      "metadata": {
        "id": "Sgf0Lsg602hn"
      },
      "source": [
        "## Getting individual ratings"
      ]
    },
    {
      "cell_type": "markdown",
      "metadata": {
        "id": "vpnKD8c106lQ"
      },
      "source": [
        "Another useful usecase is getting the predicted rating for a particular movie for a given user. The process is similar to the previous retreival of top recommendations but, instead of using `predcitAll` with every single movie the user hasn't rated yet, we will just pass the method a single entry with the movie we want to predict the rating for."
      ]
    },
    {
      "cell_type": "code",
      "execution_count": 33,
      "metadata": {
        "id": "hBV_4qAT09T_",
        "colab": {
          "base_uri": "https://localhost:8080/"
        },
        "outputId": "e8e87bb4-0fed-41e1-e32f-c8a104e7fd43"
      },
      "outputs": [
        {
          "output_type": "execute_result",
          "data": {
            "text/plain": [
              "[Rating(user=0, product=116688, rating=2.070225567265668)]"
            ]
          },
          "metadata": {},
          "execution_count": 33
        }
      ],
      "source": [
        "my_movie = sc.parallelize([(0, 500)]) # Quiz Show (1994)\n",
        "individual_movie_rating_RDD = new_ratings_model.predictAll(new_user_unrated_movies_RDD)\n",
        "individual_movie_rating_RDD.take(1)"
      ]
    },
    {
      "cell_type": "markdown",
      "metadata": {
        "id": "BpE6CeOm0_bV"
      },
      "source": [
        "Not very likely that the new user will like that one... Obviously we can include as many movies as we need in that list!"
      ]
    },
    {
      "cell_type": "markdown",
      "metadata": {
        "id": "XQ31lHMk1BBl"
      },
      "source": [
        "## Persisting the model"
      ]
    },
    {
      "cell_type": "markdown",
      "metadata": {
        "id": "XJX1tNiQ1CNP"
      },
      "source": [
        "Optionally, we might want to persist the base model for later use in our on-line recommendations. Although a new model is generated everytime we have new user ratings, it might be worth it to store the current one, in order to save time when starting up the server, etc. We might also save time if we persist some of the RDDs we have generated, specially those that took longer to process. For example, the following lines save and load a ALS model."
      ]
    },
    {
      "cell_type": "code",
      "execution_count": 34,
      "metadata": {
        "id": "0iGD4Q6p1Afq"
      },
      "outputs": [],
      "source": [
        "from pyspark.mllib.recommendation import MatrixFactorizationModel\n",
        "\n",
        "model_path = os.path.join('..', 'models', 'movie_lens_als')\n",
        "\n",
        "# Save and load model\n",
        "model.save(sc, model_path)\n",
        "same_model = MatrixFactorizationModel.load(sc, model_path)"
      ]
    },
    {
      "cell_type": "markdown",
      "metadata": {
        "id": "Nr6-N2ZL1PWk"
      },
      "source": [
        "Among other things, you will see in your filesystem that there are folder with product and user data into [Parquet](https://parquet.apache.org/) format files."
      ]
    },
    {
      "cell_type": "markdown",
      "metadata": {
        "id": "qrde0BSG1PwX"
      },
      "source": [
        "## Genre and other fields"
      ]
    },
    {
      "cell_type": "markdown",
      "metadata": {
        "id": "i-u7DW3X1UTu"
      },
      "source": [
        "We havent used the `genre` and `timestamp` fields in order to simplify the transformations and the whole tutorial. Incorporating them doesn't reprensent any problem. A good use could be filtering recommendations by any of them (e.g. recommendations by genre, or recent recommendations) like we have done with the minimum number of ratings."
      ]
    },
    {
      "cell_type": "markdown",
      "metadata": {
        "id": "x4RsQDye1U-r"
      },
      "source": [
        "# Exercise "
      ]
    },
    {
      "cell_type": "markdown",
      "metadata": {
        "id": "6P8C_JAn1lNf"
      },
      "source": [
        "In this example, rank is the only hyperparameter with value variation. Add additional inner loop to combine it with iteration using values 5, 10, and 20."
      ]
    },
    {
      "cell_type": "code",
      "execution_count": 35,
      "metadata": {
        "id": "JMvhrFwH1XzU"
      },
      "outputs": [],
      "source": [
        "ranks = [4, 8, 12]\n",
        "iterations_list = [5, 10, 20]\n",
        "regularization_parameter = 0.1\n",
        "errors = [0, 0, 0]\n",
        "err = 0\n",
        "tolerance = 0.02"
      ]
    },
    {
      "cell_type": "code",
      "execution_count": 36,
      "metadata": {
        "id": "wRTkAMyq1oGc"
      },
      "outputs": [],
      "source": [
        "min_error = float('inf')\n",
        "best_rank = -1\n",
        "best_iteration = -1"
      ]
    },
    {
      "cell_type": "code",
      "execution_count": 37,
      "metadata": {
        "id": "AYzNcWr81pQv",
        "colab": {
          "base_uri": "https://localhost:8080/"
        },
        "outputId": "11980802-be85-457e-c0f7-196d1373595d"
      },
      "outputs": [
        {
          "output_type": "stream",
          "name": "stdout",
          "text": [
            "For rank 4 and iteration 5 the RMSE is 1.0990149964396436\n",
            "For rank 4 and iteration 10 the RMSE is 1.105242106906042\n",
            "For rank 4 and iteration 20 the RMSE is 1.0993634344211707\n",
            "For rank 8 and iteration 5 the RMSE is 1.1190397767017635\n",
            "For rank 8 and iteration 10 the RMSE is 1.1069925539923564\n",
            "For rank 8 and iteration 20 the RMSE is 1.1045547299792469\n",
            "For rank 12 and iteration 5 the RMSE is 1.123741553632609\n",
            "For rank 12 and iteration 10 the RMSE is 1.1165234823244978\n",
            "For rank 12 and iteration 20 the RMSE is 1.1100315245310677\n"
          ]
        }
      ],
      "source": [
        "errors = []\n",
        "iterations_list = [5, 10, 20]\n",
        "\n",
        "for rank in ranks:\n",
        "    for iteration in iterations_list:\n",
        "        model = ALS.train(training_RDD, rank, seed=seed, iterations=iteration, lambda_=regularization_parameter)\n",
        "        predictions = model.predictAll(validation_for_predict_RDD).map(lambda r: ((r[0], r[1]), r[2]))\n",
        "        rates_and_preds = validation_RDD.map(lambda r: ((int(r[0]), int(r[1])), float(r[2]))).join(predictions)\n",
        "        error = math.sqrt(rates_and_preds.map(lambda r: (r[1][0] - r[1][1])**2).mean())\n",
        "        errors.append(error)\n",
        "        print(f'For rank {rank} and iteration {iteration} the RMSE is {error}')\n",
        "        if error < min_error:\n",
        "            min_error = error\n",
        "            best_rank = rank\n",
        "            best_iteration = iteration\n"
      ]
    },
    {
      "cell_type": "code",
      "execution_count": 38,
      "metadata": {
        "id": "e4ydEQdB1rtW",
        "colab": {
          "base_uri": "https://localhost:8080/"
        },
        "outputId": "20a1a97e-35c1-43c7-88e5-f5c967068327"
      },
      "outputs": [
        {
          "output_type": "stream",
          "name": "stdout",
          "text": [
            "The best model was trained with rank 4 and iteration 5\n"
          ]
        }
      ],
      "source": [
        "print(f'The best model was trained with rank {best_rank} and iteration {best_iteration}')"
      ]
    }
  ],
  "metadata": {
    "colab": {
      "provenance": []
    },
    "kernelspec": {
      "display_name": "Python 3",
      "name": "python3"
    },
    "language_info": {
      "name": "python"
    }
  },
  "nbformat": 4,
  "nbformat_minor": 0
}